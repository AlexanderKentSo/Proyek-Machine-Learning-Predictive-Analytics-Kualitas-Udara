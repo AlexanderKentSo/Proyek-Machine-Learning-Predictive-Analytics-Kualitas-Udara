{
 "cells": [
  {
   "cell_type": "markdown",
   "metadata": {},
   "source": [
    "## Import library yang dibutuhkan"
   ]
  },
  {
   "cell_type": "code",
   "execution_count": 10,
   "metadata": {},
   "outputs": [],
   "source": [
    "import numpy as np # untuk mengolah data\n",
    "import pandas as pd # untuk mengolah data \n",
    "import matplotlib.pyplot as plt # untuk visualisai diagram\n",
    "import tensorflow as tf # untuk membuat model neural network\n",
    "from sklearn.ensemble import RandomForestClassifier # untuk membuat model Random Forest\n",
    "from sklearn.ensemble import AdaBoostRegressor # untuk membuat model AdaBoost"
   ]
  },
  {
   "cell_type": "markdown",
   "metadata": {},
   "source": [
    "## Exploratory Data Analysis (EDA)"
   ]
  },
  {
   "cell_type": "code",
   "execution_count": null,
   "metadata": {},
   "outputs": [
    {
     "name": "stdout",
     "output_type": "stream",
     "text": [
      "   Temperature  Humidity  PM2.5  PM10   NO2   SO2    CO  \\\n",
      "0         29.8      59.1    5.2  17.9  18.9   9.2  1.72   \n",
      "1         28.3      75.6    2.3  12.2  30.8   9.7  1.64   \n",
      "2         23.1      74.7   26.7  33.8  24.4  12.6  1.63   \n",
      "3         27.1      39.1    6.1   6.3  13.5   5.3  1.15   \n",
      "4         26.5      70.7    6.9  16.0  21.9   5.6  1.01   \n",
      "\n",
      "   Proximity_to_Industrial_Areas  Population_Density Air Quality  \n",
      "0                            6.3                 319    Moderate  \n",
      "1                            6.0                 611    Moderate  \n",
      "2                            5.2                 619    Moderate  \n",
      "3                           11.1                 551        Good  \n",
      "4                           12.7                 303        Good  \n",
      "Panjang data: 5000\n"
     ]
    }
   ],
   "source": [
    "data = pd.read_csv('dataset/updated_pollution_dataset.csv')\n",
    "\n",
    "print(data.head())\n",
    "print(f'Panjang data: {len(data)}')\n",
    "\n"
   ]
  },
  {
   "cell_type": "markdown",
   "metadata": {},
   "source": [
    "## Data Preparation"
   ]
  },
  {
   "cell_type": "markdown",
   "metadata": {},
   "source": [
    "### Normalisasi data"
   ]
  },
  {
   "cell_type": "code",
   "execution_count": null,
   "metadata": {},
   "outputs": [],
   "source": []
  },
  {
   "cell_type": "markdown",
   "metadata": {},
   "source": [
    "### Encoding kategori"
   ]
  },
  {
   "cell_type": "code",
   "execution_count": null,
   "metadata": {},
   "outputs": [],
   "source": [
    "# encode bagian air quality"
   ]
  },
  {
   "cell_type": "markdown",
   "metadata": {},
   "source": [
    "### train-validation-test split (80%:10%:10%)"
   ]
  },
  {
   "cell_type": "code",
   "execution_count": 17,
   "metadata": {},
   "outputs": [
    {
     "name": "stdout",
     "output_type": "stream",
     "text": [
      "4000 500 500\n"
     ]
    }
   ],
   "source": [
    "train_data = data[:4000]\n",
    "val_data = data[4000:4500]\n",
    "test_data = data[4500:]\n",
    "\n",
    "print(len(train_data), len(val_data), len(test_data))"
   ]
  }
 ],
 "metadata": {
  "kernelspec": {
   "display_name": "base",
   "language": "python",
   "name": "python3"
  },
  "language_info": {
   "codemirror_mode": {
    "name": "ipython",
    "version": 3
   },
   "file_extension": ".py",
   "mimetype": "text/x-python",
   "name": "python",
   "nbconvert_exporter": "python",
   "pygments_lexer": "ipython3",
   "version": "3.12.4"
  }
 },
 "nbformat": 4,
 "nbformat_minor": 2
}
